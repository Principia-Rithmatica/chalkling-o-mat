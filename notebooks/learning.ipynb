{
 "cells": [
  {
   "cell_type": "code",
   "execution_count": 1,
   "outputs": [
    {
     "name": "stdout",
     "output_type": "stream",
     "text": [
      "Using cpu device\n"
     ]
    }
   ],
   "source": [
    "from typing import List\n",
    "import os\n",
    "\n",
    "import torch\n",
    "from PIL import Image\n",
    "from torch.utils.data import Dataset\n",
    "from torchvision.io import read_image, ImageReadMode\n",
    "from torchvision.transforms import transforms\n",
    "\n",
    "device = \"cuda\" if torch.cuda.is_available() else \"cpu\"\n",
    "print(f\"Using {device} device\")"
   ],
   "metadata": {
    "collapsed": false
   }
  },
  {
   "cell_type": "markdown",
   "source": [
    "# Create a dataloader"
   ],
   "metadata": {
    "collapsed": false
   }
  },
  {
   "cell_type": "code",
   "execution_count": 2,
   "metadata": {
    "collapsed": true
   },
   "outputs": [],
   "source": [
    "transform = transforms.Compose([\n",
    "    transforms.Grayscale(),\n",
    "    transforms.Resize((128,128)),\n",
    "    transforms.ToTensor(),\n",
    "    transforms.Normalize(0.5, 0.5)\n",
    "])\n",
    "\n",
    "class ChalklingLoader(Dataset):\n",
    "\n",
    "    def __init__(self, data_folder_path: str):\n",
    "        self.data: List = []\n",
    "        self.labels: List[str] = []\n",
    "        self.load_data(data_folder_path)\n",
    "\n",
    "    def load_data(self, data_folder_path: str):\n",
    "        # [\"class\", \"file\", \"attack\", \"defense\", \"speed\", \"life\", \"aesthetic\"]\n",
    "        # All folder that are also y labels\n",
    "        y_folders = os.listdir(data_folder_path)\n",
    "        for y_folder in y_folders:\n",
    "            self.labels.append(y_folder)\n",
    "            label_idx = self.labels.index(y_folder)\n",
    "\n",
    "            # All images within the folder\n",
    "            image_folder_path = os.path.join(data_folder_path, y_folder)\n",
    "            files = os.listdir(image_folder_path)\n",
    "            for image_file in files:\n",
    "                file_path = os.path.join(image_folder_path, image_file)\n",
    "                img = Image.open(file_path)\n",
    "                attack = float(img.info['attack'])\n",
    "                defense = float(img.info['defense'])\n",
    "                speed = float(img.info['speed'])\n",
    "                life = float(img.info['life'])\n",
    "                aesthetic = float(img.info['aesthetic'])\n",
    "                image = transform(img)\n",
    "                self.data.append({\n",
    "                    \"label\": torch.tensor(label_idx),\n",
    "                    # Tensor[image_channels, image_height, image_width]\n",
    "                    \"image\": image,\n",
    "                    \"data\": torch.tensor([attack, defense, speed, life, aesthetic])\n",
    "                })\n",
    "\n",
    "    def __getitem__(self, index):\n",
    "        return self.data[index]\n",
    "\n",
    "    def __len__(self):\n",
    "        return len(self.data)\n"
   ]
  },
  {
   "cell_type": "markdown",
   "source": [
    "# Load data"
   ],
   "metadata": {
    "collapsed": false
   }
  },
  {
   "cell_type": "code",
   "execution_count": 3,
   "outputs": [
    {
     "name": "stdout",
     "output_type": "stream",
     "text": [
      "Feature Image batch shape: torch.Size([10, 1, 128, 128])\n",
      "Feature Data batch shape: torch.Size([10, 5])\n",
      "Labels batch shape: torch.Size([10])\n"
     ]
    }
   ],
   "source": [
    "from torch.utils.data import DataLoader\n",
    "\n",
    "train_data = ChalklingLoader(os.path.join(\"..\", \"data\"))\n",
    "dataloader = DataLoader(train_data, batch_size=10, shuffle=True)\n",
    "data = next(iter(dataloader))\n",
    "print(f\"Feature Image batch shape: {data['image'].size()}\")\n",
    "print(f\"Feature Data batch shape: {data['data'].size()}\")\n",
    "print(f\"Labels batch shape: {data['label'].size()}\")"
   ],
   "metadata": {
    "collapsed": false
   }
  },
  {
   "cell_type": "markdown",
   "source": [
    "# Create the classification model"
   ],
   "metadata": {
    "collapsed": false
   }
  },
  {
   "cell_type": "code",
   "execution_count": 7,
   "outputs": [],
   "source": [
    "from torch import nn, optim\n",
    "\n",
    "\n",
    "class Model(nn.Module):\n",
    "    def __init__(self, input_size: int, output_size: int):\n",
    "        super(Model, self).__init__()\n",
    "        self.conv = nn.Sequential(\n",
    "            nn.Conv2d(1, 6, 3, padding=1),\n",
    "            nn.ReLU(),\n",
    "            nn.MaxPool2d(2, 2),\n",
    "            nn.Conv2d(6, 16, 3, padding=1),\n",
    "            nn.ReLU(),\n",
    "            nn.MaxPool2d(2, 2)\n",
    "        )\n",
    "        self.fc = nn.Sequential(\n",
    "            nn.Linear(16 * 32 * 32, 120),\n",
    "            nn.ReLU(),\n",
    "            nn.Linear(120, 84),\n",
    "            nn.ReLU(),\n",
    "            nn.Linear(84, output_size)\n",
    "        )\n",
    "\n",
    "    def forward(self, x):\n",
    "        x = self.conv(x)\n",
    "        x = x.view(-1, 16 * 32 * 32)\n",
    "        x = self.fc(x)\n",
    "        return x"
   ],
   "metadata": {
    "collapsed": false
   }
  },
  {
   "cell_type": "markdown",
   "source": [
    "# Train Model"
   ],
   "metadata": {
    "collapsed": false
   }
  },
  {
   "cell_type": "code",
   "execution_count": 8,
   "outputs": [
    {
     "name": "stdout",
     "output_type": "stream",
     "text": [
      "[Epoch 1] loss: 0.695\n",
      "[Epoch 2] loss: 0.693\n",
      "[Epoch 3] loss: 0.691\n",
      "[Epoch 4] loss: 0.689\n",
      "[Epoch 5] loss: 0.688\n",
      "[Epoch 6] loss: 0.684\n",
      "[Epoch 7] loss: 0.681\n",
      "[Epoch 8] loss: 0.678\n",
      "[Epoch 9] loss: 0.678\n",
      "[Epoch 10] loss: 0.672\n",
      "Finished Training\n"
     ]
    }
   ],
   "source": [
    "model = Model(128*128, len(train_data.labels)).to(device)\n",
    "\n",
    "# Define the loss function and optimizer\n",
    "criterion = nn.CrossEntropyLoss()\n",
    "optimizer = optim.SGD(model.parameters(), lr=0.001, momentum=0.9)\n",
    "\n",
    "# Train the model\n",
    "for epoch in range(10):\n",
    "    running_loss = 0.0\n",
    "    for i, data in enumerate(dataloader, 0):\n",
    "        inputs = data['image']\n",
    "        labels = data['label']\n",
    "        optimizer.zero_grad()\n",
    "        outputs = model(inputs)\n",
    "        loss = criterion(outputs, labels)\n",
    "        loss.backward()\n",
    "        optimizer.step()\n",
    "        running_loss += loss.item()\n",
    "\n",
    "    print('[Epoch %d] loss: %.3f' % (epoch + 1, running_loss / len(dataloader)))\n",
    "\n",
    "print('Finished Training')"
   ],
   "metadata": {
    "collapsed": false
   }
  },
  {
   "cell_type": "code",
   "execution_count": null,
   "outputs": [],
   "source": [],
   "metadata": {
    "collapsed": false
   }
  }
 ],
 "metadata": {
  "kernelspec": {
   "display_name": "Python 3",
   "language": "python",
   "name": "python3"
  },
  "language_info": {
   "codemirror_mode": {
    "name": "ipython",
    "version": 2
   },
   "file_extension": ".py",
   "mimetype": "text/x-python",
   "name": "python",
   "nbconvert_exporter": "python",
   "pygments_lexer": "ipython2",
   "version": "2.7.6"
  }
 },
 "nbformat": 4,
 "nbformat_minor": 0
}
